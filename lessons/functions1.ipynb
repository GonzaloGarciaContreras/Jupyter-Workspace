{
 "metadata": {
  "language_info": {
   "codemirror_mode": {
    "name": "ipython",
    "version": 3
   },
   "file_extension": ".py",
   "mimetype": "text/x-python",
   "name": "python",
   "nbconvert_exporter": "python",
   "pygments_lexer": "ipython3",
   "version": "3.7.4-final"
  },
  "orig_nbformat": 2,
  "kernelspec": {
   "name": "python_defaultSpec_1600528145107",
   "display_name": "Python 3.7.4 64-bit ('base': conda)"
  }
 },
 "nbformat": 4,
 "nbformat_minor": 2,
 "cells": [
  {
   "cell_type": "code",
   "execution_count": 1,
   "metadata": {},
   "outputs": [],
   "source": [
    "### Python III - Functions \n",
    "\n",
    "### print is a function print() \n",
    "# is a caleable piece of code (black box)\n",
    "# inputs and ouputs\n"
   ]
  },
  {
   "cell_type": "code",
   "execution_count": 2,
   "metadata": {
    "tags": []
   },
   "outputs": [
    {
     "output_type": "stream",
     "name": "stdout",
     "text": "4\n"
    }
   ],
   "source": [
    "def add(a, b):   #a, b arguments only exit in the body in the function \n",
    "    sum = a+b\n",
    "    return sum\n",
    "print(add(2,2))\n"
   ]
  },
  {
   "cell_type": "code",
   "execution_count": 10,
   "metadata": {},
   "outputs": [
    {
     "output_type": "execute_result",
     "data": {
      "text/plain": "\"you made ['beef', 'tomate', 'dijon'] sandwich\""
     },
     "metadata": {},
     "execution_count": 10
    }
   ],
   "source": [
    "def make_sandwich(ingredients):\n",
    "    return f\"you made {ingredients} sandwich\"\n",
    "\n",
    "make_sandwich([\"beef\", \"tomate\", \"dijon\"])       #list of ingredientes as only one argument this is why a list"
   ]
  },
  {
   "cell_type": "code",
   "execution_count": 15,
   "metadata": {},
   "outputs": [],
   "source": [
    "def add(a, b):   #a, b arguments only exit in the body in the function \n",
    "    sum = a+b\n",
    "    return sum"
   ]
  },
  {
   "cell_type": "code",
   "execution_count": 16,
   "metadata": {},
   "outputs": [],
   "source": [
    "# we can build functions of/in functions \n",
    "# I can write a function that cointain 3 functions \n",
    "\n",
    "def mult(a, b):\n",
    "    return a * b "
   ]
  },
  {
   "cell_type": "code",
   "execution_count": 18,
   "metadata": {},
   "outputs": [],
   "source": [
    "def crazymath(a,b):\n",
    "    return mult(add(a,b), add(a,b))"
   ]
  },
  {
   "cell_type": "code",
   "execution_count": 20,
   "metadata": {
    "tags": []
   },
   "outputs": [
    {
     "output_type": "stream",
     "name": "stdout",
     "text": "48\n"
    }
   ],
   "source": [
    "#ejemplo 1\n",
    "# mul = 2+4 + 3+5 = 6 * 8 = 48\n",
    "my_var = mult(add(2,4), add(3,5))\n",
    "print (my_var)\n"
   ]
  },
  {
   "cell_type": "code",
   "execution_count": 21,
   "metadata": {},
   "outputs": [
    {
     "output_type": "execute_result",
     "data": {
      "text/plain": "64"
     },
     "metadata": {},
     "execution_count": 21
    }
   ],
   "source": [
    "#ejemplo 2\n",
    "# mul = 3+5 + 3.5 = 64\n",
    "crazymath(3,5)"
   ]
  },
  {
   "cell_type": "code",
   "execution_count": null,
   "metadata": {},
   "outputs": [],
   "source": []
  }
 ]
}