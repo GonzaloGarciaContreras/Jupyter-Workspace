{
 "metadata": {
  "language_info": {
   "codemirror_mode": {
    "name": "ipython",
    "version": 3
   },
   "file_extension": ".py",
   "mimetype": "text/x-python",
   "name": "python",
   "nbconvert_exporter": "python",
   "pygments_lexer": "ipython3",
   "version": "3.7.4-final"
  },
  "orig_nbformat": 2,
  "kernelspec": {
   "name": "python_defaultSpec_1600386160153",
   "display_name": "Python 3.7.4 64-bit ('base': conda)"
  }
 },
 "nbformat": 4,
 "nbformat_minor": 2,
 "cells": [
  {
   "cell_type": "code",
   "execution_count": 3,
   "metadata": {
    "tags": []
   },
   "outputs": [
    {
     "output_type": "stream",
     "name": "stdout",
     "text": "['apple', 'mango', 'banana', 3, 2, True]\n"
    }
   ],
   "source": [
    "fruit = [\"apple\", \"mango\", \"banana\", 3, 2, True]\n",
    "# list accept any data type \n",
    "# a list can contain other lists \n",
    "print(fruit)\n",
    "\n",
    "\n"
   ]
  },
  {
   "cell_type": "code",
   "execution_count": 15,
   "metadata": {
    "tags": []
   },
   "outputs": [
    {
     "output_type": "stream",
     "name": "stdout",
     "text": "['apple', 'mango', 'banana', 'orange', 'tenderin', 'apple']\n"
    }
   ],
   "source": [
    "# list accept any data type \n",
    "# a list can contain other lists \n",
    "#b etter to have things in common\n",
    "# start with 0 index\n",
    "fruit = [\"apple\", \"mango\", \"banana\", \"orange\", \"tenderin\", \"apple\"]\n",
    "print(fruit)"
   ]
  },
  {
   "cell_type": "code",
   "execution_count": 5,
   "metadata": {},
   "outputs": [
    {
     "output_type": "execute_result",
     "data": {
      "text/plain": "'apple'"
     },
     "metadata": {},
     "execution_count": 5
    }
   ],
   "source": [
    "fruit[0]"
   ]
  },
  {
   "cell_type": "code",
   "execution_count": 10,
   "metadata": {
    "tags": []
   },
   "outputs": [
    {
     "output_type": "stream",
     "name": "stdout",
     "text": "banana\n"
    }
   ],
   "source": [
    "print(fruit[2])\n"
   ]
  },
  {
   "cell_type": "code",
   "execution_count": 11,
   "metadata": {
    "tags": []
   },
   "outputs": [
    {
     "output_type": "stream",
     "name": "stdout",
     "text": "banana\n"
    }
   ],
   "source": [
    "print(fruit[-1])"
   ]
  },
  {
   "cell_type": "code",
   "execution_count": 12,
   "metadata": {
    "tags": []
   },
   "outputs": [
    {
     "output_type": "stream",
     "name": "stdout",
     "text": "['apple', 'mango']\n"
    }
   ],
   "source": [
    "print(fruit[:2])"
   ]
  },
  {
   "cell_type": "code",
   "execution_count": 13,
   "metadata": {
    "tags": []
   },
   "outputs": [
    {
     "output_type": "stream",
     "name": "stdout",
     "text": "['mango', 'banana']\n"
    }
   ],
   "source": [
    "print(fruit[1:])"
   ]
  },
  {
   "cell_type": "code",
   "execution_count": 14,
   "metadata": {},
   "outputs": [],
   "source": [
    "# start:\n",
    "# :end\n",
    "#start:end:step\n"
   ]
  },
  {
   "cell_type": "code",
   "execution_count": 16,
   "metadata": {},
   "outputs": [
    {
     "output_type": "execute_result",
     "data": {
      "text/plain": "['apple', 'mango', 'banana', 'orange', 'tenderin', 'apple']"
     },
     "metadata": {},
     "execution_count": 16
    }
   ],
   "source": [
    "fruit\n"
   ]
  },
  {
   "cell_type": "code",
   "execution_count": 19,
   "metadata": {
    "tags": []
   },
   "outputs": [
    {
     "output_type": "stream",
     "name": "stdout",
     "text": "['banana', 'orange', 'tenderin', 'apple']\n"
    }
   ],
   "source": [
    "print(fruit[2:])"
   ]
  },
  {
   "cell_type": "code",
   "execution_count": 20,
   "metadata": {
    "tags": []
   },
   "outputs": [
    {
     "output_type": "stream",
     "name": "stdout",
     "text": "['apple', 'mango', 'banana', 'orange']\n"
    }
   ],
   "source": [
    "print(fruit[:4])"
   ]
  },
  {
   "cell_type": "code",
   "execution_count": 21,
   "metadata": {
    "tags": []
   },
   "outputs": [
    {
     "output_type": "stream",
     "name": "stdout",
     "text": "['banana', 'orange']\n"
    }
   ],
   "source": [
    "print(fruit[2:4])"
   ]
  },
  {
   "cell_type": "code",
   "execution_count": 22,
   "metadata": {
    "tags": []
   },
   "outputs": [
    {
     "output_type": "stream",
     "name": "stdout",
     "text": "['apple', 'banana', 'tenderin']\n"
    }
   ],
   "source": [
    "print(fruit[::2])"
   ]
  },
  {
   "cell_type": "code",
   "execution_count": 26,
   "metadata": {
    "tags": []
   },
   "outputs": [
    {
     "output_type": "stream",
     "name": "stdout",
     "text": "['apple', 'orange']\n"
    }
   ],
   "source": [
    "print(fruit[::3])"
   ]
  },
  {
   "cell_type": "code",
   "execution_count": 27,
   "metadata": {
    "tags": []
   },
   "outputs": [
    {
     "output_type": "stream",
     "name": "stdout",
     "text": "['apple', 'orange', 'mango']\n"
    }
   ],
   "source": [
    "print(fruit[::-2])"
   ]
  },
  {
   "cell_type": "code",
   "execution_count": 28,
   "metadata": {
    "tags": []
   },
   "outputs": [
    {
     "output_type": "stream",
     "name": "stdout",
     "text": "['apple', 'tenderin', 'orange', 'banana', 'mango', 'apple']\n"
    }
   ],
   "source": [
    "# print list reverse\n",
    "print(fruit[::-1])"
   ]
  },
  {
   "cell_type": "code",
   "execution_count": 29,
   "metadata": {},
   "outputs": [
    {
     "output_type": "execute_result",
     "data": {
      "text/plain": "6"
     },
     "metadata": {},
     "execution_count": 29
    }
   ],
   "source": [
    "len(fruit)"
   ]
  },
  {
   "cell_type": "code",
   "execution_count": 30,
   "metadata": {},
   "outputs": [],
   "source": [
    "fruit.append(\"tomato\")"
   ]
  },
  {
   "cell_type": "code",
   "execution_count": 31,
   "metadata": {},
   "outputs": [
    {
     "output_type": "execute_result",
     "data": {
      "text/plain": "7"
     },
     "metadata": {},
     "execution_count": 31
    }
   ],
   "source": [
    "len(fruit)"
   ]
  },
  {
   "cell_type": "code",
   "execution_count": 32,
   "metadata": {
    "tags": []
   },
   "outputs": [
    {
     "output_type": "stream",
     "name": "stdout",
     "text": "tomato\n"
    }
   ],
   "source": [
    "print(fruit[-1])"
   ]
  },
  {
   "cell_type": "code",
   "execution_count": 35,
   "metadata": {},
   "outputs": [
    {
     "output_type": "execute_result",
     "data": {
      "text/plain": "['apple', 'mango', 'banana', 'orange', 'tenderin', 'apple', 'tomato']"
     },
     "metadata": {},
     "execution_count": 35
    }
   ],
   "source": [
    "fruit"
   ]
  },
  {
   "cell_type": "code",
   "execution_count": 37,
   "metadata": {},
   "outputs": [
    {
     "output_type": "execute_result",
     "data": {
      "text/plain": "list"
     },
     "metadata": {},
     "execution_count": 37
    }
   ],
   "source": [
    "type(fruit)"
   ]
  },
  {
   "cell_type": "code",
   "execution_count": 38,
   "metadata": {},
   "outputs": [
    {
     "output_type": "execute_result",
     "data": {
      "text/plain": "1"
     },
     "metadata": {},
     "execution_count": 38
    }
   ],
   "source": [
    "fruit.index('mango')"
   ]
  },
  {
   "cell_type": "code",
   "execution_count": 41,
   "metadata": {
    "tags": []
   },
   "outputs": [
    {
     "output_type": "stream",
     "name": "stdout",
     "text": "3\n"
    }
   ],
   "source": [
    "orange_index = fruit.index('orange')\n",
    "print (orange_index)"
   ]
  },
  {
   "cell_type": "code",
   "execution_count": 49,
   "metadata": {},
   "outputs": [
    {
     "output_type": "execute_result",
     "data": {
      "text/plain": "<function list.pop(index=-1, /)>"
     },
     "metadata": {},
     "execution_count": 49
    }
   ],
   "source": [
    "fruit.pop"
   ]
  },
  {
   "cell_type": "code",
   "execution_count": 50,
   "metadata": {},
   "outputs": [
    {
     "output_type": "execute_result",
     "data": {
      "text/plain": "'orange'"
     },
     "metadata": {},
     "execution_count": 50
    }
   ],
   "source": [
    "fruit.pop(3)"
   ]
  },
  {
   "cell_type": "code",
   "execution_count": 76,
   "metadata": {},
   "outputs": [],
   "source": [
    "grocery_list = [\"Water\", \"Butter\",\"Eggs\",\"Apples\", \"Cinnamon\", \"Sugar\", \"Milk\"]"
   ]
  },
  {
   "cell_type": "code",
   "execution_count": 77,
   "metadata": {},
   "outputs": [
    {
     "output_type": "execute_result",
     "data": {
      "text/plain": "['Water', 'Butter', 'Eggs', 'Apples', 'Cinnamon', 'Sugar', 'Milk']"
     },
     "metadata": {},
     "execution_count": 77
    }
   ],
   "source": [
    "grocery_list"
   ]
  },
  {
   "cell_type": "code",
   "execution_count": 61,
   "metadata": {
    "tags": []
   },
   "outputs": [
    {
     "output_type": "stream",
     "name": "stdout",
     "text": "('Water', 'Butter')\n"
    }
   ],
   "source": [
    "#Find the first two items on Mike's grocery list.\n",
    "print(grocery_list[0:2])"
   ]
  },
  {
   "cell_type": "code",
   "execution_count": 68,
   "metadata": {
    "tags": []
   },
   "outputs": [
    {
     "output_type": "stream",
     "name": "stdout",
     "text": "('Eggs', 'Apples', 'Cinnamon', 'Sugar', 'Milk')\n"
    }
   ],
   "source": [
    "#Find the last five items on Mike's grocery list.\n",
    "print(grocery_list[(len(grocery_list)-5):len(grocery_list)])"
   ]
  },
  {
   "cell_type": "code",
   "execution_count": 72,
   "metadata": {
    "tags": []
   },
   "outputs": [
    {
     "output_type": "stream",
     "name": "stdout",
     "text": "('Butter', 'Apples', 'Sugar')\n"
    }
   ],
   "source": [
    "#Find every other item, starting from the second item, on Mike's grocery list.\n",
    "print(grocery_list[1:len(grocery_list):2])"
   ]
  },
  {
   "cell_type": "code",
   "execution_count": 73,
   "metadata": {
    "tags": []
   },
   "outputs": [
    {
     "output_type": "stream",
     "name": "stdout",
     "text": "('Butter', 'Apples', 'Sugar')\n"
    }
   ],
   "source": [
    "print(grocery_list[1::2])"
   ]
  },
  {
   "cell_type": "code",
   "execution_count": 78,
   "metadata": {},
   "outputs": [],
   "source": [
    "grocery_list.append(\"flour\")"
   ]
  },
  {
   "cell_type": "code",
   "execution_count": 79,
   "metadata": {},
   "outputs": [
    {
     "output_type": "execute_result",
     "data": {
      "text/plain": "['Water', 'Butter', 'Eggs', 'Apples', 'Cinnamon', 'Sugar', 'Milk', 'flour']"
     },
     "metadata": {},
     "execution_count": 79
    }
   ],
   "source": [
    "grocery_list"
   ]
  },
  {
   "cell_type": "code",
   "execution_count": 84,
   "metadata": {},
   "outputs": [],
   "source": [
    "grocery_list[grocery_list.index('Apples')] = \"gala_apples\""
   ]
  },
  {
   "cell_type": "code",
   "execution_count": 86,
   "metadata": {
    "tags": []
   },
   "outputs": [
    {
     "output_type": "stream",
     "name": "stdout",
     "text": "['Water', 'Butter', 'Eggs', 'gala_apples', 'Cinnamon', 'Sugar', 'Milk', 'flour']\n"
    }
   ],
   "source": [
    "print(grocery_list)"
   ]
  },
  {
   "cell_type": "code",
   "execution_count": 87,
   "metadata": {},
   "outputs": [
    {
     "output_type": "execute_result",
     "data": {
      "text/plain": "8"
     },
     "metadata": {},
     "execution_count": 87
    }
   ],
   "source": [
    "len(grocery_list)"
   ]
  },
  {
   "cell_type": "code",
   "execution_count": 88,
   "metadata": {
    "tags": []
   },
   "outputs": [
    {
     "output_type": "stream",
     "name": "stdout",
     "text": "['Butter', 'gala_apples', 'Sugar', 'flour']\n"
    }
   ],
   "source": [
    "print(grocery_list[1:len(grocery_list):2])"
   ]
  },
  {
   "cell_type": "code",
   "execution_count": 89,
   "metadata": {
    "tags": []
   },
   "outputs": [
    {
     "output_type": "stream",
     "name": "stdout",
     "text": "['Butter', 'gala_apples', 'Sugar', 'flour']\n"
    }
   ],
   "source": [
    "#print list from index 1 to the end jumping 2\n",
    "print(grocery_list[1::2])"
   ]
  },
  {
   "cell_type": "code",
   "execution_count": 90,
   "metadata": {
    "tags": []
   },
   "outputs": [
    {
     "output_type": "stream",
     "name": "stdout",
     "text": "flour\n"
    }
   ],
   "source": [
    "print(grocery_list[-1])"
   ]
  },
  {
   "cell_type": "code",
   "execution_count": 93,
   "metadata": {},
   "outputs": [
    {
     "output_type": "execute_result",
     "data": {
      "text/plain": "'gala_apples'"
     },
     "metadata": {},
     "execution_count": 93
    }
   ],
   "source": [
    "# what is the value of index 3\n",
    "grocery_list.pop(3)"
   ]
  },
  {
   "cell_type": "code",
   "execution_count": 107,
   "metadata": {
    "tags": []
   },
   "outputs": [
    {
     "output_type": "stream",
     "name": "stdout",
     "text": "['Water', 'Butter', 'Eggs', 'Cinnamon', 'Sugar', 'Milk', 'flour']\n"
    }
   ],
   "source": [
    "print(grocery_list)"
   ]
  },
  {
   "cell_type": "code",
   "execution_count": 108,
   "metadata": {},
   "outputs": [],
   "source": [
    "#add a new element to the list \n",
    "grocery_list.append(\"gala_apples\")"
   ]
  },
  {
   "cell_type": "code",
   "execution_count": 109,
   "metadata": {
    "tags": []
   },
   "outputs": [
    {
     "output_type": "stream",
     "name": "stdout",
     "text": "['Water', 'Butter', 'Eggs', 'Cinnamon', 'Sugar', 'Milk', 'flour', 'gala_apples']\n"
    }
   ],
   "source": [
    "print(grocery_list)"
   ]
  },
  {
   "cell_type": "code",
   "execution_count": 110,
   "metadata": {
    "tags": []
   },
   "outputs": [
    {
     "output_type": "stream",
     "name": "stdout",
     "text": "7\n"
    }
   ],
   "source": [
    "print(grocery_list.index('gala_apples'))"
   ]
  },
  {
   "cell_type": "code",
   "execution_count": 111,
   "metadata": {},
   "outputs": [],
   "source": [
    "# insert \"coffe\" in the index 3\n",
    "grocery_list.insert(3, \"cofee\")"
   ]
  },
  {
   "cell_type": "code",
   "execution_count": 112,
   "metadata": {
    "tags": []
   },
   "outputs": [
    {
     "output_type": "stream",
     "name": "stdout",
     "text": "['Water', 'Butter', 'Eggs', 'cofee', 'Cinnamon', 'Sugar', 'Milk', 'flour', 'gala_apples']\n"
    }
   ],
   "source": [
    "print(grocery_list)"
   ]
  },
  {
   "cell_type": "code",
   "execution_count": 112,
   "metadata": {},
   "outputs": [],
   "source": [
    "\n",
    "#### for loop with lists \n"
   ]
  },
  {
   "cell_type": "code",
   "execution_count": 114,
   "metadata": {},
   "outputs": [],
   "source": [
    "tips = [50.50, 100.00, 12, 34.45, 8, 56.5]"
   ]
  },
  {
   "cell_type": "code",
   "execution_count": 115,
   "metadata": {
    "tags": []
   },
   "outputs": [
    {
     "output_type": "stream",
     "name": "stdout",
     "text": "50.5\n100.0\n12\n34.45\n8\n56.5\n"
    }
   ],
   "source": [
    "for tip in tips:\n",
    "    print(tip)"
   ]
  },
  {
   "cell_type": "code",
   "execution_count": 126,
   "metadata": {
    "tags": []
   },
   "outputs": [
    {
     "output_type": "stream",
     "name": "stdout",
     "text": "50.5\n100.0\n12\n34.45\n8\n56.5\n\n261.45\n"
    }
   ],
   "source": [
    "total_tips = 0\n",
    "for tip in tips:\n",
    "    #tip contains the value of tips[tip] \n",
    "    total_tips = total_tips + tip \n",
    "    print(tip)\n",
    "\n",
    "print(\"\")\n",
    "print(total_tips)"
   ]
  },
  {
   "cell_type": "code",
   "execution_count": 130,
   "metadata": {
    "tags": []
   },
   "outputs": [
    {
     "output_type": "stream",
     "name": "stdout",
     "text": "50.5\n100.0\n12\n34.45\n8\n56.5\n\n261.45\n"
    }
   ],
   "source": [
    "total_tips = 0\n",
    "for tip in tips:\n",
    "    #tip contains the value of tips[tip] \n",
    "    total_tips += tip ## shortcut \n",
    "    print(tip)\n",
    "\n",
    "print(\"\")\n",
    "print(total_tips)\n",
    "\n"
   ]
  },
  {
   "cell_type": "code",
   "execution_count": 133,
   "metadata": {
    "tags": []
   },
   "outputs": [
    {
     "output_type": "stream",
     "name": "stdout",
     "text": "100.0\n"
    }
   ],
   "source": [
    "# get the biggest tip\n",
    "total = 0\n",
    "maxi = 0\n",
    "\n",
    "for tip in tips:\n",
    "    total = total + tip \n",
    "\n",
    "    if tip > maxi:\n",
    "        maxi = tip \n",
    "\n",
    "print (maxi)\n"
   ]
  },
  {
   "cell_type": "code",
   "execution_count": 137,
   "metadata": {
    "tags": []
   },
   "outputs": [
    {
     "output_type": "stream",
     "name": "stdout",
     "text": "100.0\n0\n"
    }
   ],
   "source": [
    "total = 0\n",
    "maxi = 0\n",
    "mini = 0\n",
    "\n",
    "for tip in tips:\n",
    "    total = total + tip \n",
    "\n",
    "    if tip > maxi:\n",
    "        maxi = tip \n",
    "    elif tip < mini:\n",
    "        maxi = tip \n",
    "\n",
    "print (maxi)\n",
    "print(mini)"
   ]
  },
  {
   "cell_type": "code",
   "execution_count": 145,
   "metadata": {
    "tags": []
   },
   "outputs": [
    {
     "output_type": "stream",
     "name": "stdout",
     "text": "[1300, -200, 300, -275, 700, -100]\n"
    }
   ],
   "source": [
    "trading_pnl = [1300, -200, 300, -275, 700, -100]\n",
    "\n",
    "print (trading_pnl)"
   ]
  },
  {
   "cell_type": "code",
   "execution_count": 141,
   "metadata": {
    "tags": []
   },
   "outputs": [
    {
     "output_type": "stream",
     "name": "stdout",
     "text": "6\n1500\n"
    }
   ],
   "source": [
    "nr_trades = 0\n",
    "total_profit = 0\n",
    "\n",
    "for td in trading_pnl: \n",
    "    nr_trades += 1\n",
    "    total_profit = total_profit + td\n",
    "    \n",
    "print(nr_trades)\n",
    "print(total_profit)"
   ]
  },
  {
   "cell_type": "code",
   "execution_count": 148,
   "metadata": {
    "tags": []
   },
   "outputs": [
    {
     "output_type": "stream",
     "name": "stdout",
     "text": "nr trades 6\ntotal profit 1725\nmaninum value -275\nmaximun value 1300\n"
    }
   ],
   "source": [
    "nr_trades = 0\n",
    "total_profit = 0\n",
    "maximun = 0\n",
    "minimun = 1000000\n",
    "\n",
    "for td in trading_pnl: \n",
    "    nr_trades += 1\n",
    "    total_profit = total_profit + td\n",
    "\n",
    "    if td < minimun: minimun = td\n",
    "    if td > maximun: maximun = td\n",
    "\n",
    "print(\"nr trades\", nr_trades)\n",
    "print(\"total profit\", total_profit)\n",
    "print(\"maninum value\", minimun)\n",
    "print(\"maximun value\", maximun)"
   ]
  },
  {
   "cell_type": "code",
   "execution_count": 151,
   "metadata": {
    "tags": []
   },
   "outputs": [
    {
     "output_type": "stream",
     "name": "stdout",
     "text": "nr trades 6\ntotal profit 1725\nmaninum value -275\nmaximun value 1300\nprofitable [1300, 300, 700]\nunprofitability [-200, -275, -100]\naverage/trade 287.5\n"
    }
   ],
   "source": [
    "nr_trades = 0\n",
    "total_profit = 0\n",
    "maximun = 0\n",
    "minimun = 1000000\n",
    "profitable_days = []\n",
    "unprofitable_days = []\n",
    "\n",
    "for td in trading_pnl: \n",
    "    nr_trades += 1\n",
    "    total_profit += td\n",
    "\n",
    "    if td < minimun: minimun = td\n",
    "    if td > maximun: maximun = td\n",
    "\n",
    "    if td > 0: profitable_days.append(td)\n",
    "    if td <= 0: unprofitable_days.append(td)\n",
    "\n",
    "average = round(total_profit / nr_trades, 2) \n",
    "\n",
    "print(\"nr trades\", nr_trades)\n",
    "print(\"total profit\", total_profit)\n",
    "print(\"maninum value\", minimun)\n",
    "print(\"maximun value\", maximun)\n",
    "print(\"profitable\", profitable_days)\n",
    "print(\"unprofitability\", unprofitable_days)\n",
    "print(\"average/trade\", average)\n"
   ]
  },
  {
   "cell_type": "code",
   "execution_count": 152,
   "metadata": {},
   "outputs": [],
   "source": [
    "\n",
    "# Dictionares \n",
    "# a collecton of key-value pairs\n",
    "# unordered \n"
   ]
  },
  {
   "cell_type": "code",
   "execution_count": 163,
   "metadata": {
    "tags": []
   },
   "outputs": [
    {
     "output_type": "stream",
     "name": "stdout",
     "text": "Houston    590211\n2\n"
    }
   ],
   "source": [
    "gon = {\n",
    "    \"age\": 29,\n",
    "    \"location\": \"Houston\",\n",
    "    \"birth\": 590211\n",
    "}\n",
    "\n",
    "mon = {\n",
    "    \"jan\": 1,\n",
    "    \"feb\": 2\n",
    "}\n",
    "\n",
    "print(gon[\"location\"], \"  \", gon[\"birth\"])\n",
    "print(mon[\"feb\"])"
   ]
  },
  {
   "cell_type": "code",
   "execution_count": 164,
   "metadata": {},
   "outputs": [],
   "source": [
    "#assign a new value to a key\n",
    "gon[\"age\"] = 60"
   ]
  },
  {
   "cell_type": "code",
   "execution_count": 165,
   "metadata": {
    "tags": []
   },
   "outputs": [
    {
     "output_type": "stream",
     "name": "stdout",
     "text": "60\n"
    }
   ],
   "source": [
    "print(gon[\"age\"])"
   ]
  },
  {
   "cell_type": "code",
   "execution_count": 166,
   "metadata": {},
   "outputs": [],
   "source": [
    "#add a new pair Key-Value\n",
    "gon[\"color\"] = \"white\""
   ]
  },
  {
   "cell_type": "code",
   "execution_count": 167,
   "metadata": {},
   "outputs": [
    {
     "output_type": "execute_result",
     "data": {
      "text/plain": "{'age': 60, 'location': 'Houston', 'birth': 590211, 'color': 'white'}"
     },
     "metadata": {},
     "execution_count": 167
    }
   ],
   "source": [
    "gon"
   ]
  },
  {
   "cell_type": "code",
   "execution_count": 171,
   "metadata": {
    "tags": []
   },
   "outputs": [
    {
     "output_type": "stream",
     "name": "stdout",
     "text": "[[0, 1, 1], [1, 12, 4], [1, 4, 6]]\n"
    }
   ],
   "source": [
    "# nested list of lists\n",
    "# matrix like\n",
    "\n",
    "matrix = [\n",
    "    [0,1,1],\n",
    "    [1,12,4],\n",
    "    [1,4,6]\n",
    "]\n",
    "\n",
    "print(matrix)\n",
    "\n"
   ]
  },
  {
   "cell_type": "code",
   "execution_count": 172,
   "metadata": {},
   "outputs": [
    {
     "output_type": "execute_result",
     "data": {
      "text/plain": "[1, 12, 4]"
     },
     "metadata": {},
     "execution_count": 172
    }
   ],
   "source": [
    "matrix[1] "
   ]
  },
  {
   "cell_type": "code",
   "execution_count": 174,
   "metadata": {},
   "outputs": [
    {
     "output_type": "execute_result",
     "data": {
      "text/plain": "12"
     },
     "metadata": {},
     "execution_count": 174
    }
   ],
   "source": [
    "matrix[1][1]"
   ]
  },
  {
   "cell_type": "code",
   "execution_count": 176,
   "metadata": {},
   "outputs": [
    {
     "output_type": "execute_result",
     "data": {
      "text/plain": "[0, 1, 1]"
     },
     "metadata": {},
     "execution_count": 176
    }
   ],
   "source": [
    "matrix[0]"
   ]
  },
  {
   "cell_type": "code",
   "execution_count": 177,
   "metadata": {},
   "outputs": [
    {
     "output_type": "execute_result",
     "data": {
      "text/plain": "0"
     },
     "metadata": {},
     "execution_count": 177
    }
   ],
   "source": [
    "matrix[0][0]"
   ]
  },
  {
   "cell_type": "code",
   "execution_count": 185,
   "metadata": {
    "tags": []
   },
   "outputs": [
    {
     "output_type": "stream",
     "name": "stdout",
     "text": "0\n1\n1\n1\n12\n4\n1\n4\n6\n"
    }
   ],
   "source": [
    "for row in matrix:\n",
    "    for column in row:\n",
    "        print(column)"
   ]
  },
  {
   "cell_type": "code",
   "execution_count": 189,
   "metadata": {},
   "outputs": [],
   "source": [
    "#nested list of dictionaries\n",
    "\n",
    "ohlc = [\n",
    "    {\n",
    "        \"o\":1,\n",
    "        \"h\":3,\n",
    "        \"l\":2,\n",
    "        \"c\":3\n",
    "    }, \n",
    "    {\n",
    "        \"o\":7,\n",
    "        \"h\":9,\n",
    "        \"l\":5,\n",
    "        \"c\":5\n",
    "    },\n",
    "    {\n",
    "        \"o\":1,\n",
    "        \"h\":3,\n",
    "        \"l\":2,\n",
    "        \"c\":3\n",
    "    }\n",
    "]"
   ]
  },
  {
   "cell_type": "code",
   "execution_count": 190,
   "metadata": {},
   "outputs": [
    {
     "output_type": "execute_result",
     "data": {
      "text/plain": "{'o': 1, 'h': 3, 'l': 2, 'c': 3}"
     },
     "metadata": {},
     "execution_count": 190
    }
   ],
   "source": [
    "ohlc[2]"
   ]
  },
  {
   "cell_type": "code",
   "execution_count": 191,
   "metadata": {},
   "outputs": [
    {
     "output_type": "execute_result",
     "data": {
      "text/plain": "2"
     },
     "metadata": {},
     "execution_count": 191
    }
   ],
   "source": [
    "ohlc[2][\"l\"]"
   ]
  },
  {
   "cell_type": "code",
   "execution_count": 192,
   "metadata": {},
   "outputs": [
    {
     "output_type": "execute_result",
     "data": {
      "text/plain": "9"
     },
     "metadata": {},
     "execution_count": 192
    }
   ],
   "source": [
    "ohlc[1][\"h\"]"
   ]
  },
  {
   "cell_type": "code",
   "execution_count": 193,
   "metadata": {},
   "outputs": [],
   "source": [
    "new_l = [{\n",
    "    \"banana\":{\n",
    "        \"ripeness\":[1,2,3,4]\n",
    "    }\n",
    "}]"
   ]
  },
  {
   "cell_type": "code",
   "execution_count": 194,
   "metadata": {},
   "outputs": [
    {
     "output_type": "execute_result",
     "data": {
      "text/plain": "4"
     },
     "metadata": {},
     "execution_count": 194
    }
   ],
   "source": [
    "new_l[0][\"banana\"][\"ripeness\"][3]"
   ]
  },
  {
   "cell_type": "code",
   "execution_count": null,
   "metadata": {},
   "outputs": [],
   "source": []
  }
 ]
}